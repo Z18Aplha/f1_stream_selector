{
 "cells": [
  {
   "cell_type": "code",
   "execution_count": 21,
   "metadata": {},
   "outputs": [],
   "source": [
    "import pandas as pd"
   ]
  },
  {
   "cell_type": "code",
   "execution_count": 27,
   "metadata": {},
   "outputs": [],
   "source": [
    "def get_stream_today():\n",
    "    df = pd.read_csv(\"streams.csv\", index_col=\"Date\", parse_dates=True, dayfirst=True)\n",
    "    df.index = pd.to_datetime(df.index)\n",
    "    stream = df.loc[pd.to_datetime('today').normalize().date().isoformat()][\"Stream\"].to_list()\n",
    "    if len(stream):\n",
    "        return stream[0]\n",
    "    else:\n",
    "        return \"NOSTREAM\""
   ]
  },
  {
   "cell_type": "code",
   "execution_count": 28,
   "metadata": {},
   "outputs": [],
   "source": [
    "from http.server import BaseHTTPRequestHandler, HTTPServer\n",
    "import time\n"
   ]
  },
  {
   "cell_type": "code",
   "execution_count": 29,
   "metadata": {},
   "outputs": [
    {
     "name": "stdout",
     "output_type": "stream",
     "text": [
      "Server started http://192.168.7.100:8080\n"
     ]
    },
    {
     "name": "stderr",
     "output_type": "stream",
     "text": [
      "192.168.7.131 - - [15/Mar/2022 02:05:31] \"GET /stream_today HTTP/1.1\" 200 -\n",
      "192.168.7.131 - - [15/Mar/2022 02:05:40] \"GET /stream_today HTTP/1.1\" 200 -\n",
      "192.168.7.131 - - [15/Mar/2022 02:05:51] \"GET /stream_today HTTP/1.1\" 200 -\n",
      "192.168.7.131 - - [15/Mar/2022 02:16:11] \"GET /stream_today HTTP/1.1\" 200 -\n",
      "192.168.7.131 - - [15/Mar/2022 02:16:27] \"GET /stream_today HTTP/1.1\" 200 -\n",
      "192.168.7.131 - - [15/Mar/2022 02:16:53] \"GET /stream_today HTTP/1.1\" 200 -\n",
      "192.168.7.131 - - [15/Mar/2022 02:17:26] \"GET /stream_today HTTP/1.1\" 200 -\n",
      "192.168.7.131 - - [15/Mar/2022 02:17:34] \"GET /stream_today HTTP/1.1\" 200 -\n",
      "192.168.7.131 - - [15/Mar/2022 02:18:28] \"GET /stream_today HTTP/1.1\" 200 -\n",
      "192.168.7.131 - - [15/Mar/2022 02:22:18] \"GET /stream_today HTTP/1.1\" 200 -\n",
      "192.168.7.131 - - [15/Mar/2022 02:22:48] \"GET /stream_today HTTP/1.1\" 200 -\n",
      "192.168.7.131 - - [15/Mar/2022 02:23:01] \"GET /stream_today HTTP/1.1\" 200 -\n",
      "192.168.7.131 - - [15/Mar/2022 02:23:24] \"GET /stream_today HTTP/1.1\" 200 -\n",
      "192.168.7.131 - - [15/Mar/2022 02:24:36] \"GET /stream_today HTTP/1.1\" 200 -\n",
      "192.168.7.131 - - [15/Mar/2022 02:48:46] \"GET /stream_today HTTP/1.1\" 200 -\n",
      "192.168.7.131 - - [15/Mar/2022 02:49:55] \"GET /stream_today HTTP/1.1\" 200 -\n",
      "192.168.7.131 - - [15/Mar/2022 02:56:16] \"GET /stream_today HTTP/1.1\" 200 -\n"
     ]
    },
    {
     "name": "stdout",
     "output_type": "stream",
     "text": [
      "Server stopped.\n"
     ]
    }
   ],
   "source": [
    "\n",
    "hostName = \"192.168.7.100\"\n",
    "serverPort = 8080\n",
    "\n",
    "class MyServer(BaseHTTPRequestHandler):\n",
    "    def do_GET(self):\n",
    "        self.send_response(200)\n",
    "        self.send_header(\"Content-type\", \"text/html\")\n",
    "        self.end_headers()\n",
    "        self.wfile.write(bytes(\"<html><head><title>https://pythonbasics.org</title></head>\", \"utf-8\"))\n",
    "        if self.path == \"/stream_today\":\n",
    "            stream = get_stream_today()\n",
    "            self.wfile.write(bytes(\"<body>\", \"utf-8\"))\n",
    "            self.wfile.write(bytes(f\"<p>{stream}</p>\", \"utf-8\"))\n",
    "            self.wfile.write(bytes(\"</body></html>\", \"utf-8\"))\n",
    "        else:\n",
    "            self.wfile.write(bytes(\"<body>\", \"utf-8\"))\n",
    "            self.wfile.write(bytes(f\"<p>ERROR</p>\", \"utf-8\"))\n",
    "            self.wfile.write(bytes(\"</body></html>\", \"utf-8\"))\n",
    "\n",
    "\n",
    "if __name__ == \"__main__\":        \n",
    "    webServer = HTTPServer((hostName, serverPort), MyServer)\n",
    "    print(\"Server started http://%s:%s\" % (hostName, serverPort))\n",
    "\n",
    "    try:\n",
    "        webServer.serve_forever()\n",
    "    except KeyboardInterrupt:\n",
    "        pass\n",
    "\n",
    "    webServer.server_close()\n",
    "    print(\"Server stopped.\")"
   ]
  }
 ],
 "metadata": {
  "interpreter": {
   "hash": "5cb4c5a19cdfdb0bed0268ea814c514807ee9e7440f691fbb4fb5e0f945f1cd4"
  },
  "kernelspec": {
   "display_name": "Python 3.9.5 64-bit",
   "language": "python",
   "name": "python3"
  },
  "language_info": {
   "codemirror_mode": {
    "name": "ipython",
    "version": 3
   },
   "file_extension": ".py",
   "mimetype": "text/x-python",
   "name": "python",
   "nbconvert_exporter": "python",
   "pygments_lexer": "ipython3",
   "version": "3.9.5"
  },
  "orig_nbformat": 4
 },
 "nbformat": 4,
 "nbformat_minor": 2
}
